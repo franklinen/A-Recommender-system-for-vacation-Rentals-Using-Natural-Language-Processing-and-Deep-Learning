{
 "cells": [
  {
   "cell_type": "markdown",
   "metadata": {},
   "source": [
    "We'll import data into variables in memory. Sklearn has handy functions to load data files, we can use it here. It would  load data from the directroy structure we have for it."
   ]
  },
  {
   "cell_type": "code",
   "execution_count": 1,
   "metadata": {},
   "outputs": [],
   "source": [
    "import os \n",
    "os.getcwd()\n",
    "import pandas as pd\n",
    "import numpy as np\n",
    "import matplotlib.pyplot as plt\n",
    "\n",
    "import seaborn as sns"
   ]
  },
  {
   "cell_type": "code",
   "execution_count": 2,
   "metadata": {},
   "outputs": [],
   "source": [
    "#import dataset\n",
    "df = pd.read_csv(\"TripAdvReview.csv\", na_values=\" \")"
   ]
  },
  {
   "cell_type": "code",
   "execution_count": 65,
   "metadata": {},
   "outputs": [
    {
     "name": "stdout",
     "output_type": "stream",
     "text": [
      "                                               Title  Rating  Review_counts  \\\n",
      "0                            Vacation/Cottage Rental     5.0           85.0   \n",
      "1    Mistiso's Place Vacation Rentals- Purcell Suite     4.5          100.0   \n",
      "2  Toronto 4 Bedroom House Spacious Clean Beautif...     5.0           36.0   \n",
      "3                                   Our Sweet Escape     5.0           34.0   \n",
      "4    Walk to ocean from Lyons Cottage Rentals in PEI     4.5           48.0   \n",
      "\n",
      "             City               Province  \\\n",
      "0   Niagara Falls                Ontario   \n",
      "1          Nelson       British Columbia   \n",
      "2         Toronto                Ontario   \n",
      "3  Qualicum Beach       British Columbia   \n",
      "4        Stanhope   Prince Edward Island   \n",
      "\n",
      "                                             Reviews  \n",
      "0  1 \\nThis rental felt more like a well-appointe...  \n",
      "1  4 \\nI can't say enough about this beautiful an...  \n",
      "2  1 \\nback yard! Would recommend the rental for ...  \n",
      "3  3 \\nenjoyable. I have never stayed in a vacati...  \n",
      "4  2 \\nquiet morning as we woke up - perfect vaca...  \n"
     ]
    }
   ],
   "source": [
    "#remove extra columns and keep the necessary ones for analysis\n",
    "df = pd.DataFrame(df.drop(['Bubble_Count', 'Review_Count'], axis=1))\n",
    "df.columns\n",
    "print(df.head(n=5))"
   ]
  },
  {
   "cell_type": "code",
   "execution_count": 66,
   "metadata": {},
   "outputs": [],
   "source": [
    "#remove new line characters from variable columns\n",
    "df = df.replace(r'\\n',' ', regex=True)\n",
    "\n",
    "#remove the numbers in the review column\n",
    "df.Reviews = df.Reviews.str.replace('\\d+', '')"
   ]
  },
  {
   "cell_type": "code",
   "execution_count": 67,
   "metadata": {},
   "outputs": [],
   "source": [
    "#fills the rating and Review_counts variable missing values with the mean and median respectively\n",
    "df = df.fillna({'Rating': df.Rating.median(), 'Review_counts': df.Review_counts.mean()})"
   ]
  },
  {
   "cell_type": "code",
   "execution_count": 68,
   "metadata": {},
   "outputs": [
    {
     "data": {
      "text/plain": [
       "Title              0\n",
       "Rating             0\n",
       "Review_counts      0\n",
       "City               0\n",
       "Province           0\n",
       "Reviews          278\n",
       "dtype: int64"
      ]
     },
     "execution_count": 68,
     "metadata": {},
     "output_type": "execute_result"
    }
   ],
   "source": [
    "df.isnull().sum()"
   ]
  },
  {
   "cell_type": "code",
   "execution_count": 69,
   "metadata": {},
   "outputs": [],
   "source": [
    "df['Reviews']=df['Reviews'].fillna('')"
   ]
  },
  {
   "cell_type": "code",
   "execution_count": 70,
   "metadata": {},
   "outputs": [
    {
     "data": {
      "text/plain": [
       "Title            0\n",
       "Rating           0\n",
       "Review_counts    0\n",
       "City             0\n",
       "Province         0\n",
       "Reviews          0\n",
       "dtype: int64"
      ]
     },
     "execution_count": 70,
     "metadata": {},
     "output_type": "execute_result"
    }
   ],
   "source": [
    "df.isnull().sum()"
   ]
  },
  {
   "cell_type": "code",
   "execution_count": 71,
   "metadata": {},
   "outputs": [
    {
     "data": {
      "text/html": [
       "<div>\n",
       "<style scoped>\n",
       "    .dataframe tbody tr th:only-of-type {\n",
       "        vertical-align: middle;\n",
       "    }\n",
       "\n",
       "    .dataframe tbody tr th {\n",
       "        vertical-align: top;\n",
       "    }\n",
       "\n",
       "    .dataframe thead th {\n",
       "        text-align: right;\n",
       "    }\n",
       "</style>\n",
       "<table border=\"1\" class=\"dataframe\">\n",
       "  <thead>\n",
       "    <tr style=\"text-align: right;\">\n",
       "      <th></th>\n",
       "      <th>Title</th>\n",
       "      <th>Rating</th>\n",
       "      <th>Review_counts</th>\n",
       "      <th>City</th>\n",
       "      <th>Province</th>\n",
       "      <th>Reviews</th>\n",
       "    </tr>\n",
       "  </thead>\n",
       "  <tbody>\n",
       "    <tr>\n",
       "      <th>0</th>\n",
       "      <td>Vacation/Cottage Rental</td>\n",
       "      <td>5.0</td>\n",
       "      <td>85.0</td>\n",
       "      <td>Niagara Falls</td>\n",
       "      <td>Ontario</td>\n",
       "      <td>This rental felt more like a well-appointed ...</td>\n",
       "    </tr>\n",
       "    <tr>\n",
       "      <th>1</th>\n",
       "      <td>Mistiso's Place Vacation Rentals- Purcell Suite</td>\n",
       "      <td>4.5</td>\n",
       "      <td>100.0</td>\n",
       "      <td>Nelson</td>\n",
       "      <td>British Columbia</td>\n",
       "      <td>I can't say enough about this beautiful and ...</td>\n",
       "    </tr>\n",
       "    <tr>\n",
       "      <th>2</th>\n",
       "      <td>Toronto 4 Bedroom House Spacious Clean Beautif...</td>\n",
       "      <td>5.0</td>\n",
       "      <td>36.0</td>\n",
       "      <td>Toronto</td>\n",
       "      <td>Ontario</td>\n",
       "      <td>back yard! Would recommend the rental for a ...</td>\n",
       "    </tr>\n",
       "    <tr>\n",
       "      <th>3</th>\n",
       "      <td>Our Sweet Escape</td>\n",
       "      <td>5.0</td>\n",
       "      <td>34.0</td>\n",
       "      <td>Qualicum Beach</td>\n",
       "      <td>British Columbia</td>\n",
       "      <td>enjoyable. I have never stayed in a vacation...</td>\n",
       "    </tr>\n",
       "    <tr>\n",
       "      <th>4</th>\n",
       "      <td>Walk to ocean from Lyons Cottage Rentals in PEI</td>\n",
       "      <td>4.5</td>\n",
       "      <td>48.0</td>\n",
       "      <td>Stanhope</td>\n",
       "      <td>Prince Edward Island</td>\n",
       "      <td>quiet morning as we woke up - perfect vacati...</td>\n",
       "    </tr>\n",
       "    <tr>\n",
       "      <th>5</th>\n",
       "      <td>Best views in Nelson</td>\n",
       "      <td>5.0</td>\n",
       "      <td>33.0</td>\n",
       "      <td>Nelson</td>\n",
       "      <td>British Columbia</td>\n",
       "      <td>to buy even the coffee filters! Maybe they s...</td>\n",
       "    </tr>\n",
       "    <tr>\n",
       "      <th>6</th>\n",
       "      <td>Shale Beach House, Blue Mountain Collingwood Ont.</td>\n",
       "      <td>5.0</td>\n",
       "      <td>77.0</td>\n",
       "      <td>Blue Mountains</td>\n",
       "      <td>Ontario</td>\n",
       "      <td>vacation spot! There are three levels and so...</td>\n",
       "    </tr>\n",
       "    <tr>\n",
       "      <th>7</th>\n",
       "      <td>Paradise Vacation Rentals</td>\n",
       "      <td>5.0</td>\n",
       "      <td>25.0</td>\n",
       "      <td>North Bay</td>\n",
       "      <td>Ontario</td>\n",
       "      <td>This has to be one of the best vacation places...</td>\n",
       "    </tr>\n",
       "    <tr>\n",
       "      <th>8</th>\n",
       "      <td>Downtown Toronto 4BR Townhouse</td>\n",
       "      <td>5.0</td>\n",
       "      <td>55.0</td>\n",
       "      <td>Toronto</td>\n",
       "      <td>Ontario</td>\n",
       "      <td>paint but you could forgive this slightly as...</td>\n",
       "    </tr>\n",
       "    <tr>\n",
       "      <th>9</th>\n",
       "      <td>Les Rives du Sanctuaire</td>\n",
       "      <td>5.0</td>\n",
       "      <td>53.0</td>\n",
       "      <td>Mont Tremblant</td>\n",
       "      <td>Quebec</td>\n",
       "      <td>spend majestic vacation . His place is large...</td>\n",
       "    </tr>\n",
       "    <tr>\n",
       "      <th>10</th>\n",
       "      <td>Inn Of The Sea Resort-Newly renovated, Oceanvi...</td>\n",
       "      <td>5.0</td>\n",
       "      <td>45.0</td>\n",
       "      <td>Ladysmith</td>\n",
       "      <td>British Columbia</td>\n",
       "      <td>This is one of the best private vacation ren...</td>\n",
       "    </tr>\n",
       "    <tr>\n",
       "      <th>11</th>\n",
       "      <td>Enormous Riverfront 2 Bedroom Condo in the Hea...</td>\n",
       "      <td>5.0</td>\n",
       "      <td>87.0</td>\n",
       "      <td>Quebec City</td>\n",
       "      <td>Quebec</td>\n",
       "      <td>Dalhousie, I cannot recall a vacation rental...</td>\n",
       "    </tr>\n",
       "    <tr>\n",
       "      <th>12</th>\n",
       "      <td>Downtown Apartment in Historic Cabbagetown</td>\n",
       "      <td>5.0</td>\n",
       "      <td>39.0</td>\n",
       "      <td>Toronto</td>\n",
       "      <td>Ontario</td>\n",
       "      <td>Tony and Steve's Aberdeen rental was the per...</td>\n",
       "    </tr>\n",
       "    <tr>\n",
       "      <th>13</th>\n",
       "      <td>Air-con 3 BR view suite for 6, w/ 50' 4K Smart TV</td>\n",
       "      <td>5.0</td>\n",
       "      <td>50.0</td>\n",
       "      <td>Nanaimo</td>\n",
       "      <td>British Columbia</td>\n",
       "      <td>the windows because the entire house (bottom...</td>\n",
       "    </tr>\n",
       "    <tr>\n",
       "      <th>14</th>\n",
       "      <td>Downtown Toronto Furnished VACATION Rental</td>\n",
       "      <td>4.5</td>\n",
       "      <td>26.0</td>\n",
       "      <td>Toronto</td>\n",
       "      <td>Ontario</td>\n",
       "      <td>rental! The location was an excellent and se...</td>\n",
       "    </tr>\n",
       "  </tbody>\n",
       "</table>\n",
       "</div>"
      ],
      "text/plain": [
       "                                                Title  Rating  Review_counts  \\\n",
       "0                             Vacation/Cottage Rental     5.0           85.0   \n",
       "1     Mistiso's Place Vacation Rentals- Purcell Suite     4.5          100.0   \n",
       "2   Toronto 4 Bedroom House Spacious Clean Beautif...     5.0           36.0   \n",
       "3                                    Our Sweet Escape     5.0           34.0   \n",
       "4     Walk to ocean from Lyons Cottage Rentals in PEI     4.5           48.0   \n",
       "5                                Best views in Nelson     5.0           33.0   \n",
       "6   Shale Beach House, Blue Mountain Collingwood Ont.     5.0           77.0   \n",
       "7                           Paradise Vacation Rentals     5.0           25.0   \n",
       "8                      Downtown Toronto 4BR Townhouse     5.0           55.0   \n",
       "9                             Les Rives du Sanctuaire     5.0           53.0   \n",
       "10  Inn Of The Sea Resort-Newly renovated, Oceanvi...     5.0           45.0   \n",
       "11  Enormous Riverfront 2 Bedroom Condo in the Hea...     5.0           87.0   \n",
       "12         Downtown Apartment in Historic Cabbagetown     5.0           39.0   \n",
       "13  Air-con 3 BR view suite for 6, w/ 50' 4K Smart TV     5.0           50.0   \n",
       "14         Downtown Toronto Furnished VACATION Rental     4.5           26.0   \n",
       "\n",
       "              City               Province  \\\n",
       "0    Niagara Falls                Ontario   \n",
       "1           Nelson       British Columbia   \n",
       "2          Toronto                Ontario   \n",
       "3   Qualicum Beach       British Columbia   \n",
       "4         Stanhope   Prince Edward Island   \n",
       "5           Nelson       British Columbia   \n",
       "6   Blue Mountains                Ontario   \n",
       "7        North Bay                Ontario   \n",
       "8          Toronto                Ontario   \n",
       "9   Mont Tremblant                 Quebec   \n",
       "10       Ladysmith       British Columbia   \n",
       "11     Quebec City                 Quebec   \n",
       "12         Toronto                Ontario   \n",
       "13         Nanaimo       British Columbia   \n",
       "14         Toronto                Ontario   \n",
       "\n",
       "                                              Reviews  \n",
       "0     This rental felt more like a well-appointed ...  \n",
       "1     I can't say enough about this beautiful and ...  \n",
       "2     back yard! Would recommend the rental for a ...  \n",
       "3     enjoyable. I have never stayed in a vacation...  \n",
       "4     quiet morning as we woke up - perfect vacati...  \n",
       "5     to buy even the coffee filters! Maybe they s...  \n",
       "6     vacation spot! There are three levels and so...  \n",
       "7   This has to be one of the best vacation places...  \n",
       "8     paint but you could forgive this slightly as...  \n",
       "9     spend majestic vacation . His place is large...  \n",
       "10    This is one of the best private vacation ren...  \n",
       "11    Dalhousie, I cannot recall a vacation rental...  \n",
       "12    Tony and Steve's Aberdeen rental was the per...  \n",
       "13    the windows because the entire house (bottom...  \n",
       "14    rental! The location was an excellent and se...  "
      ]
     },
     "execution_count": 71,
     "metadata": {},
     "output_type": "execute_result"
    }
   ],
   "source": [
    "df.head(n=15)"
   ]
  },
  {
   "cell_type": "code",
   "execution_count": 72,
   "metadata": {},
   "outputs": [
    {
     "name": "stdout",
     "output_type": "stream",
     "text": [
      "(849, 6)\n"
     ]
    },
    {
     "data": {
      "text/plain": [
       "Title            0\n",
       "Rating           0\n",
       "Review_counts    0\n",
       "City             0\n",
       "Province         0\n",
       "Reviews          0\n",
       "dtype: int64"
      ]
     },
     "execution_count": 72,
     "metadata": {},
     "output_type": "execute_result"
    }
   ],
   "source": [
    "print(df.shape)\n",
    "df.isnull().sum()"
   ]
  },
  {
   "cell_type": "code",
   "execution_count": 73,
   "metadata": {},
   "outputs": [
    {
     "name": "stdout",
     "output_type": "stream",
     "text": [
      "Type :  <class 'pandas.core.series.Series'>\n",
      "Length of reviews:  849\n",
      "Review at index 6:\n",
      "    vacation spot! There are three levels and so each family got their very own\n",
      "Label of the review at Index 6:  5.0\n"
     ]
    }
   ],
   "source": [
    "# Let's understand the two lists: reviews (text_train) and their labels (y_train)\n",
    "print(\"Type : \",type(df.Reviews))\n",
    "print(\"Length of reviews: \",len(df.Reviews))\n",
    "print(\"Review at index 6:\\n \", df.Reviews[6])\n",
    "print(\"Label of the review at Index 6: \",df.Rating[6])\n",
    "# The ratings labels is a continous series of float numbers"
   ]
  },
  {
   "cell_type": "code",
   "execution_count": 46,
   "metadata": {},
   "outputs": [],
   "source": [
    "#import libraries\n",
    "import nltk\n",
    "import re\n",
    "from nltk.corpus import stopwords"
   ]
  },
  {
   "cell_type": "code",
   "execution_count": 74,
   "metadata": {},
   "outputs": [
    {
     "name": "stdout",
     "output_type": "stream",
     "text": [
      "  I can't say enough about this beautiful and charming vacation rental\n",
      "\n"
     ]
    }
   ],
   "source": [
    "print(df['Reviews'][1])\n",
    "print(df['Reviews'][81])"
   ]
  },
  {
   "cell_type": "code",
   "execution_count": 75,
   "metadata": {},
   "outputs": [],
   "source": [
    "#Label Encoding for Categorical Target Variable\n",
    "from sklearn.preprocessing import LabelEncoder\n",
    "\n",
    "lb = LabelEncoder()\n",
    "df['Rating'] = lb.fit_transform(df['Rating'])"
   ]
  },
  {
   "cell_type": "code",
   "execution_count": 76,
   "metadata": {},
   "outputs": [
    {
     "data": {
      "text/plain": [
       "6    635\n",
       "5    158\n",
       "4     34\n",
       "3      8\n",
       "2      6\n",
       "0      6\n",
       "1      2\n",
       "Name: Rating, dtype: int64"
      ]
     },
     "execution_count": 76,
     "metadata": {},
     "output_type": "execute_result"
    }
   ],
   "source": [
    "df.Rating.value_counts()"
   ]
  },
  {
   "cell_type": "code",
   "execution_count": 77,
   "metadata": {},
   "outputs": [
    {
     "data": {
      "text/html": [
       "<div>\n",
       "<style scoped>\n",
       "    .dataframe tbody tr th:only-of-type {\n",
       "        vertical-align: middle;\n",
       "    }\n",
       "\n",
       "    .dataframe tbody tr th {\n",
       "        vertical-align: top;\n",
       "    }\n",
       "\n",
       "    .dataframe thead th {\n",
       "        text-align: right;\n",
       "    }\n",
       "</style>\n",
       "<table border=\"1\" class=\"dataframe\">\n",
       "  <thead>\n",
       "    <tr style=\"text-align: right;\">\n",
       "      <th></th>\n",
       "      <th>Title</th>\n",
       "      <th>Rating</th>\n",
       "      <th>Review_counts</th>\n",
       "      <th>City</th>\n",
       "      <th>Province</th>\n",
       "      <th>Reviews</th>\n",
       "    </tr>\n",
       "  </thead>\n",
       "  <tbody>\n",
       "    <tr>\n",
       "      <th>0</th>\n",
       "      <td>Vacation/Cottage Rental</td>\n",
       "      <td>6</td>\n",
       "      <td>85.0</td>\n",
       "      <td>Niagara Falls</td>\n",
       "      <td>Ontario</td>\n",
       "      <td>This rental felt more like a well-appointed ...</td>\n",
       "    </tr>\n",
       "    <tr>\n",
       "      <th>1</th>\n",
       "      <td>Mistiso's Place Vacation Rentals- Purcell Suite</td>\n",
       "      <td>5</td>\n",
       "      <td>100.0</td>\n",
       "      <td>Nelson</td>\n",
       "      <td>British Columbia</td>\n",
       "      <td>I can't say enough about this beautiful and ...</td>\n",
       "    </tr>\n",
       "    <tr>\n",
       "      <th>2</th>\n",
       "      <td>Toronto 4 Bedroom House Spacious Clean Beautif...</td>\n",
       "      <td>6</td>\n",
       "      <td>36.0</td>\n",
       "      <td>Toronto</td>\n",
       "      <td>Ontario</td>\n",
       "      <td>back yard! Would recommend the rental for a ...</td>\n",
       "    </tr>\n",
       "    <tr>\n",
       "      <th>3</th>\n",
       "      <td>Our Sweet Escape</td>\n",
       "      <td>6</td>\n",
       "      <td>34.0</td>\n",
       "      <td>Qualicum Beach</td>\n",
       "      <td>British Columbia</td>\n",
       "      <td>enjoyable. I have never stayed in a vacation...</td>\n",
       "    </tr>\n",
       "    <tr>\n",
       "      <th>4</th>\n",
       "      <td>Walk to ocean from Lyons Cottage Rentals in PEI</td>\n",
       "      <td>5</td>\n",
       "      <td>48.0</td>\n",
       "      <td>Stanhope</td>\n",
       "      <td>Prince Edward Island</td>\n",
       "      <td>quiet morning as we woke up - perfect vacati...</td>\n",
       "    </tr>\n",
       "  </tbody>\n",
       "</table>\n",
       "</div>"
      ],
      "text/plain": [
       "                                               Title  Rating  Review_counts  \\\n",
       "0                            Vacation/Cottage Rental       6           85.0   \n",
       "1    Mistiso's Place Vacation Rentals- Purcell Suite       5          100.0   \n",
       "2  Toronto 4 Bedroom House Spacious Clean Beautif...       6           36.0   \n",
       "3                                   Our Sweet Escape       6           34.0   \n",
       "4    Walk to ocean from Lyons Cottage Rentals in PEI       5           48.0   \n",
       "\n",
       "             City               Province  \\\n",
       "0   Niagara Falls                Ontario   \n",
       "1          Nelson       British Columbia   \n",
       "2         Toronto                Ontario   \n",
       "3  Qualicum Beach       British Columbia   \n",
       "4        Stanhope   Prince Edward Island   \n",
       "\n",
       "                                             Reviews  \n",
       "0    This rental felt more like a well-appointed ...  \n",
       "1    I can't say enough about this beautiful and ...  \n",
       "2    back yard! Would recommend the rental for a ...  \n",
       "3    enjoyable. I have never stayed in a vacation...  \n",
       "4    quiet morning as we woke up - perfect vacati...  "
      ]
     },
     "execution_count": 77,
     "metadata": {},
     "output_type": "execute_result"
    }
   ],
   "source": [
    "df.head()"
   ]
  },
  {
   "cell_type": "markdown",
   "metadata": {},
   "source": [
    "### Data Vectorization and Cosine Similarity Construction"
   ]
  },
  {
   "cell_type": "code",
   "execution_count": 78,
   "metadata": {},
   "outputs": [],
   "source": [
    "#Import Term Frequency\n",
    "from sklearn.feature_extraction.text import TfidfVectorizer\n",
    "\n",
    "tfidf = TfidfVectorizer(stop_words='english')   "
   ]
  },
  {
   "cell_type": "code",
   "execution_count": 79,
   "metadata": {},
   "outputs": [],
   "source": [
    "#transforming Rentals Reviews\n",
    "tfidf_matrix = tfidf.fit_transform(df['Reviews']) "
   ]
  },
  {
   "cell_type": "code",
   "execution_count": 80,
   "metadata": {},
   "outputs": [
    {
     "data": {
      "text/plain": [
       "(849, 1142)"
      ]
     },
     "execution_count": 80,
     "metadata": {},
     "output_type": "execute_result"
    }
   ],
   "source": [
    "tfidf_matrix.shape   \n",
    "#each Rental Review converted to 1142 word vector. 1142 different words were used to describe blogs"
   ]
  },
  {
   "cell_type": "code",
   "execution_count": 81,
   "metadata": {},
   "outputs": [],
   "source": [
    "from sklearn.metrics.pairwise import linear_kernel\n",
    "cosine_sim = linear_kernel(tfidf_matrix, tfidf_matrix)"
   ]
  },
  {
   "cell_type": "code",
   "execution_count": 83,
   "metadata": {},
   "outputs": [],
   "source": [
    "#Construct a reverse map of indices and Rentals Titles\n",
    "indices = pd.Series(df.index, index=df['Title']).drop_duplicates()"
   ]
  },
  {
   "cell_type": "code",
   "execution_count": 84,
   "metadata": {},
   "outputs": [
    {
     "data": {
      "text/plain": [
       "Title\n",
       "Vacation/Cottage Rental                                                               0\n",
       "Mistiso's Place Vacation Rentals- Purcell Suite                                       1\n",
       "Toronto 4 Bedroom House Spacious Clean Beautiful Private Convenient Location          2\n",
       "Our Sweet Escape                                                                      3\n",
       "Walk to ocean from Lyons Cottage Rentals in PEI                                       4\n",
       "                                                                                   ... \n",
       "Lake Front Kelowna Vacation Home-2 Bed & Bath, Swim in Lake, Play in Pool, Relax    844\n",
       "Ideal for Romantic Getaway/Family Vacation! | Cross-Country Ski Trails (264993)     845\n",
       "When skiing, hiking or wine tasting, Green Vacation Mountain Chalet is the place    846\n",
       "Ideal for Romantic Getaway/Family Vacation! | Cross-Country Ski Trails (230975)     847\n",
       "BEAUTIFUL SPACIOUS KALAMALKA LAKEVIEW SUITE - BEST SUMMER VACATION SPOT IN BC       848\n",
       "Length: 849, dtype: int64"
      ]
     },
     "execution_count": 84,
     "metadata": {},
     "output_type": "execute_result"
    }
   ],
   "source": [
    "indices"
   ]
  },
  {
   "cell_type": "code",
   "execution_count": 85,
   "metadata": {},
   "outputs": [],
   "source": [
    "# Function that takes in Rental title as input and outputs most similar Rentals\n",
    "def get_recommendations(title, cosine_sim=cosine_sim):\n",
    "   \n",
    "    idx = indices[title]                            # Get the index of the Review that matches the title\n",
    "    \n",
    "    sim_scores = list(enumerate(cosine_sim[idx]))       # Get the pairwsie similarity scores of all Reviews with that dataframe\n",
    "\n",
    "   \n",
    "    sim_scores = sorted(sim_scores, key=lambda x: x[1], reverse=True)       # Sort the Reviews based on the similarity scores\n",
    "    sim_scores = sim_scores[1:4]                               # Get the scores of the 3 most similar blog\n",
    "\n",
    "    df_indices = [i[0] for i in sim_scores]                # Get the Review indices\n",
    "\n",
    "    \n",
    "    return df['Title'].iloc[df_indices]               # Return the top 10 most similar Rentals Title"
   ]
  },
  {
   "cell_type": "code",
   "execution_count": 86,
   "metadata": {},
   "outputs": [
    {
     "data": {
      "text/plain": [
       "668               Cozy Lowertown Home near Byward Market\n",
       "823                                           Merigomish\n",
       "364    Beautiful 3 Bdrm 2000 SqF with large 22x10 Bal...\n",
       "Name: Title, dtype: object"
      ]
     },
     "execution_count": 86,
     "metadata": {},
     "output_type": "execute_result"
    }
   ],
   "source": [
    "get_recommendations(\"Mistiso's Place Vacation Rentals- Purcell Suite\")"
   ]
  },
  {
   "cell_type": "code",
   "execution_count": 87,
   "metadata": {},
   "outputs": [
    {
     "data": {
      "text/plain": [
       "Title                                                   Merigomish\n",
       "Rating                                                           3\n",
       "Review_counts                                                    3\n",
       "City                                          Prince Edward County\n",
       "Province                                                   Ontario\n",
       "Reviews            a luxury rental. That said, we found it to b...\n",
       "Name: 823, dtype: object"
      ]
     },
     "execution_count": 87,
     "metadata": {},
     "output_type": "execute_result"
    }
   ],
   "source": [
    "df.loc[823]"
   ]
  },
  {
   "cell_type": "code",
   "execution_count": 88,
   "metadata": {},
   "outputs": [
    {
     "data": {
      "text/plain": [
       "Title              Mistiso's Place Vacation Rentals- Purcell Suite\n",
       "Rating                                                           5\n",
       "Review_counts                                                  100\n",
       "City                                                        Nelson\n",
       "Province                                          British Columbia\n",
       "Reviews            I can't say enough about this beautiful and ...\n",
       "Name: 1, dtype: object"
      ]
     },
     "execution_count": 88,
     "metadata": {},
     "output_type": "execute_result"
    }
   ],
   "source": [
    "df.loc[1]"
   ]
  },
  {
   "cell_type": "code",
   "execution_count": 90,
   "metadata": {},
   "outputs": [
    {
     "data": {
      "text/plain": [
       "Title             Mont Tremblant Condo - Hilltop Rental - Location\n",
       "Rating                                                           6\n",
       "Review_counts                                                    2\n",
       "City                                                Mont Tremblant\n",
       "Province                                                    Quebec\n",
       "Reviews           Wonderful vacation rental. Clean and well loc...\n",
       "Name: 346, dtype: object"
      ]
     },
     "execution_count": 90,
     "metadata": {},
     "output_type": "execute_result"
    }
   ],
   "source": [
    "df.loc[346]"
   ]
  },
  {
   "cell_type": "code",
   "execution_count": null,
   "metadata": {},
   "outputs": [],
   "source": []
  }
 ],
 "metadata": {
  "kernelspec": {
   "display_name": "Python 3",
   "language": "python",
   "name": "python3"
  },
  "language_info": {
   "codemirror_mode": {
    "name": "ipython",
    "version": 3
   },
   "file_extension": ".py",
   "mimetype": "text/x-python",
   "name": "python",
   "nbconvert_exporter": "python",
   "pygments_lexer": "ipython3",
   "version": "3.7.3"
  }
 },
 "nbformat": 4,
 "nbformat_minor": 2
}
