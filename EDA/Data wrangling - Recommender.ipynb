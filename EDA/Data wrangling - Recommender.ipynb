{
 "cells": [
  {
   "cell_type": "code",
   "execution_count": null,
   "metadata": {},
   "outputs": [],
   "source": [
    "import os \n",
    "os.getcwd()\n",
    "os.chdir(r'C:\\Users\\MAIN\\Desktop\\Internship SMinds\\Recommender')\n",
    "\n",
    "import pandas as pd\n",
    "import numpy as np\n",
    "import matplotlib.pyplot as plt\n"
   ]
  },
  {
   "cell_type": "code",
   "execution_count": null,
   "metadata": {},
   "outputs": [],
   "source": [
    "#import dataset\n",
    "df = pd.read_csv(\"TripAdvReview.csv\", na_values=\"#VALUE!\")\n",
    "df.head(n=5)\n",
    "df.columns\n",
    "#data wrangling\n",
    "print('Unique counts:',df.nunique())\n",
    "\n",
    "print('Kind of ratings:',df.Rating.unique())\n",
    "#remove extra columns and keep the necessary ones for analysis\n",
    "df = pd.DataFrame(df.drop(['Bubble_Count', 'Review_Count', 'Review_Block', 'Reviews_site','Page_Num'], axis=1))\n",
    "df.head(n=5)\n",
    "df.columns\n",
    "#\n",
    "df.describe()\n",
    "df.shape\n",
    "df.size\n",
    "df.isnull().sum()"
   ]
  }
 ],
 "metadata": {
  "kernelspec": {
   "display_name": "Python 3",
   "language": "python",
   "name": "python3"
  },
  "language_info": {
   "codemirror_mode": {
    "name": "ipython",
    "version": 3
   },
   "file_extension": ".py",
   "mimetype": "text/x-python",
   "name": "python",
   "nbconvert_exporter": "python",
   "pygments_lexer": "ipython3",
   "version": "3.7.3"
  }
 },
 "nbformat": 4,
 "nbformat_minor": 2
}
