{
 "cells": [
  {
   "cell_type": "code",
   "execution_count": 1,
   "metadata": {},
   "outputs": [],
   "source": [
    "import os \n",
    "os.getcwd()\n",
    "\n",
    "import pandas as pd\n",
    "import numpy as np\n",
    "import matplotlib.pyplot as plt\n",
    "import seaborn as sns"
   ]
  },
  {
   "cell_type": "code",
   "execution_count": 2,
   "metadata": {},
   "outputs": [
    {
     "name": "stdout",
     "output_type": "stream",
     "text": [
      "Unique counts: Title            846\n",
      "Bubble_Count       7\n",
      "Rating             7\n",
      "Review_Count      70\n",
      "Review_counts     69\n",
      "City             327\n",
      "Province          12\n",
      "Reviews          570\n",
      "dtype: int64\n",
      "Kind of ratings: [5.  4.5 4.  3.5 nan 1.  2.  3. ]\n"
     ]
    }
   ],
   "source": [
    "#import dataset\n",
    "df = pd.read_csv(\"TripAdvReview.csv\", na_values=\" \")\n",
    "df.head(n=5)\n",
    "df.columns\n",
    "#data wrangling\n",
    "print('Unique counts:',df.nunique())\n",
    "\n",
    "print('Kind of ratings:',df.Rating.unique())"
   ]
  },
  {
   "cell_type": "code",
   "execution_count": 3,
   "metadata": {},
   "outputs": [
    {
     "name": "stdout",
     "output_type": "stream",
     "text": [
      "                                               Title  Rating  Review_counts  \\\n",
      "0                            Vacation/Cottage Rental     5.0           85.0   \n",
      "1    Mistiso's Place Vacation Rentals- Purcell Suite     4.5          100.0   \n",
      "2  Toronto 4 Bedroom House Spacious Clean Beautif...     5.0           36.0   \n",
      "3                                   Our Sweet Escape     5.0           34.0   \n",
      "4    Walk to ocean from Lyons Cottage Rentals in PEI     4.5           48.0   \n",
      "\n",
      "             City               Province  \\\n",
      "0   Niagara Falls                Ontario   \n",
      "1          Nelson       British Columbia   \n",
      "2         Toronto                Ontario   \n",
      "3  Qualicum Beach       British Columbia   \n",
      "4        Stanhope   Prince Edward Island   \n",
      "\n",
      "                                             Reviews  \n",
      "0  1 \\nThis rental felt more like a well-appointe...  \n",
      "1  4 \\nI can't say enough about this beautiful an...  \n",
      "2  1 \\nback yard! Would recommend the rental for ...  \n",
      "3  3 \\nenjoyable. I have never stayed in a vacati...  \n",
      "4  2 \\nquiet morning as we woke up - perfect vaca...  \n"
     ]
    }
   ],
   "source": [
    "#remove extra columns and keep the necessary ones for analysis\n",
    "df = pd.DataFrame(df.drop(['Bubble_Count', 'Review_Count'], axis=1))\n",
    "df.columns\n",
    "print(df.head(n=5))"
   ]
  },
  {
   "cell_type": "code",
   "execution_count": 4,
   "metadata": {},
   "outputs": [],
   "source": [
    "#remove new line characters from variable columns\n",
    "df = df.replace(r'\\n',' ', regex=True)"
   ]
  },
  {
   "cell_type": "code",
   "execution_count": 5,
   "metadata": {},
   "outputs": [
    {
     "data": {
      "text/html": [
       "<div>\n",
       "<style scoped>\n",
       "    .dataframe tbody tr th:only-of-type {\n",
       "        vertical-align: middle;\n",
       "    }\n",
       "\n",
       "    .dataframe tbody tr th {\n",
       "        vertical-align: top;\n",
       "    }\n",
       "\n",
       "    .dataframe thead th {\n",
       "        text-align: right;\n",
       "    }\n",
       "</style>\n",
       "<table border=\"1\" class=\"dataframe\">\n",
       "  <thead>\n",
       "    <tr style=\"text-align: right;\">\n",
       "      <th></th>\n",
       "      <th>Title</th>\n",
       "      <th>Rating</th>\n",
       "      <th>Review_counts</th>\n",
       "      <th>City</th>\n",
       "      <th>Province</th>\n",
       "      <th>Reviews</th>\n",
       "    </tr>\n",
       "  </thead>\n",
       "  <tbody>\n",
       "    <tr>\n",
       "      <th>0</th>\n",
       "      <td>Vacation/Cottage Rental</td>\n",
       "      <td>5.0</td>\n",
       "      <td>85.0</td>\n",
       "      <td>Niagara Falls</td>\n",
       "      <td>Ontario</td>\n",
       "      <td>1  This rental felt more like a well-appointed...</td>\n",
       "    </tr>\n",
       "    <tr>\n",
       "      <th>1</th>\n",
       "      <td>Mistiso's Place Vacation Rentals- Purcell Suite</td>\n",
       "      <td>4.5</td>\n",
       "      <td>100.0</td>\n",
       "      <td>Nelson</td>\n",
       "      <td>British Columbia</td>\n",
       "      <td>4  I can't say enough about this beautiful and...</td>\n",
       "    </tr>\n",
       "    <tr>\n",
       "      <th>2</th>\n",
       "      <td>Toronto 4 Bedroom House Spacious Clean Beautif...</td>\n",
       "      <td>5.0</td>\n",
       "      <td>36.0</td>\n",
       "      <td>Toronto</td>\n",
       "      <td>Ontario</td>\n",
       "      <td>1  back yard! Would recommend the rental for a...</td>\n",
       "    </tr>\n",
       "    <tr>\n",
       "      <th>3</th>\n",
       "      <td>Our Sweet Escape</td>\n",
       "      <td>5.0</td>\n",
       "      <td>34.0</td>\n",
       "      <td>Qualicum Beach</td>\n",
       "      <td>British Columbia</td>\n",
       "      <td>3  enjoyable. I have never stayed in a vacatio...</td>\n",
       "    </tr>\n",
       "    <tr>\n",
       "      <th>4</th>\n",
       "      <td>Walk to ocean from Lyons Cottage Rentals in PEI</td>\n",
       "      <td>4.5</td>\n",
       "      <td>48.0</td>\n",
       "      <td>Stanhope</td>\n",
       "      <td>Prince Edward Island</td>\n",
       "      <td>2  quiet morning as we woke up - perfect vacat...</td>\n",
       "    </tr>\n",
       "  </tbody>\n",
       "</table>\n",
       "</div>"
      ],
      "text/plain": [
       "                                               Title  Rating  Review_counts  \\\n",
       "0                            Vacation/Cottage Rental     5.0           85.0   \n",
       "1    Mistiso's Place Vacation Rentals- Purcell Suite     4.5          100.0   \n",
       "2  Toronto 4 Bedroom House Spacious Clean Beautif...     5.0           36.0   \n",
       "3                                   Our Sweet Escape     5.0           34.0   \n",
       "4    Walk to ocean from Lyons Cottage Rentals in PEI     4.5           48.0   \n",
       "\n",
       "             City               Province  \\\n",
       "0   Niagara Falls                Ontario   \n",
       "1          Nelson       British Columbia   \n",
       "2         Toronto                Ontario   \n",
       "3  Qualicum Beach       British Columbia   \n",
       "4        Stanhope   Prince Edward Island   \n",
       "\n",
       "                                             Reviews  \n",
       "0  1  This rental felt more like a well-appointed...  \n",
       "1  4  I can't say enough about this beautiful and...  \n",
       "2  1  back yard! Would recommend the rental for a...  \n",
       "3  3  enjoyable. I have never stayed in a vacatio...  \n",
       "4  2  quiet morning as we woke up - perfect vacat...  "
      ]
     },
     "execution_count": 5,
     "metadata": {},
     "output_type": "execute_result"
    }
   ],
   "source": [
    "df.head(n=5)"
   ]
  },
  {
   "cell_type": "code",
   "execution_count": 6,
   "metadata": {},
   "outputs": [],
   "source": [
    "#remove the numbers in the review column\n",
    "df.Reviews = df.Reviews.str.replace('\\d+', '')"
   ]
  },
  {
   "cell_type": "markdown",
   "metadata": {},
   "source": [
    "### Handle Missing Values"
   ]
  },
  {
   "cell_type": "code",
   "execution_count": 7,
   "metadata": {},
   "outputs": [
    {
     "data": {
      "text/plain": [
       "Title              0\n",
       "Rating           221\n",
       "Review_counts    281\n",
       "City               0\n",
       "Province           0\n",
       "Reviews          278\n",
       "dtype: int64"
      ]
     },
     "execution_count": 7,
     "metadata": {},
     "output_type": "execute_result"
    }
   ],
   "source": [
    "#Remove missing Values\n",
    "\n",
    "df.isnull().sum()"
   ]
  },
  {
   "cell_type": "code",
   "execution_count": 8,
   "metadata": {},
   "outputs": [],
   "source": [
    "#fills the rating and Review_counts variable missing values with the mean and median respectively\n",
    "\n",
    "df = df.fillna({'Rating': df.Rating.median(), 'Review_counts': df.Review_counts.mean()})"
   ]
  },
  {
   "cell_type": "code",
   "execution_count": 9,
   "metadata": {},
   "outputs": [
    {
     "data": {
      "text/plain": [
       "Title              0\n",
       "Rating             0\n",
       "Review_counts      0\n",
       "City               0\n",
       "Province           0\n",
       "Reviews          278\n",
       "dtype: int64"
      ]
     },
     "execution_count": 9,
     "metadata": {},
     "output_type": "execute_result"
    }
   ],
   "source": [
    "df.isnull().sum()"
   ]
  },
  {
   "cell_type": "code",
   "execution_count": 10,
   "metadata": {},
   "outputs": [],
   "source": [
    "#drop all missing values\n",
    "df.dropna(axis=0,how='any',inplace=True)"
   ]
  },
  {
   "cell_type": "code",
   "execution_count": 11,
   "metadata": {},
   "outputs": [
    {
     "data": {
      "text/plain": [
       "Title            0\n",
       "Rating           0\n",
       "Review_counts    0\n",
       "City             0\n",
       "Province         0\n",
       "Reviews          0\n",
       "dtype: int64"
      ]
     },
     "execution_count": 11,
     "metadata": {},
     "output_type": "execute_result"
    }
   ],
   "source": [
    "df.isnull().sum()"
   ]
  },
  {
   "cell_type": "code",
   "execution_count": 12,
   "metadata": {},
   "outputs": [
    {
     "data": {
      "text/html": [
       "<div>\n",
       "<style scoped>\n",
       "    .dataframe tbody tr th:only-of-type {\n",
       "        vertical-align: middle;\n",
       "    }\n",
       "\n",
       "    .dataframe tbody tr th {\n",
       "        vertical-align: top;\n",
       "    }\n",
       "\n",
       "    .dataframe thead th {\n",
       "        text-align: right;\n",
       "    }\n",
       "</style>\n",
       "<table border=\"1\" class=\"dataframe\">\n",
       "  <thead>\n",
       "    <tr style=\"text-align: right;\">\n",
       "      <th></th>\n",
       "      <th>Title</th>\n",
       "      <th>Rating</th>\n",
       "      <th>Review_counts</th>\n",
       "      <th>City</th>\n",
       "      <th>Province</th>\n",
       "      <th>Reviews</th>\n",
       "    </tr>\n",
       "  </thead>\n",
       "  <tbody>\n",
       "    <tr>\n",
       "      <th>0</th>\n",
       "      <td>Vacation/Cottage Rental</td>\n",
       "      <td>5.0</td>\n",
       "      <td>85.0</td>\n",
       "      <td>Niagara Falls</td>\n",
       "      <td>Ontario</td>\n",
       "      <td>This rental felt more like a well-appointed ...</td>\n",
       "    </tr>\n",
       "    <tr>\n",
       "      <th>1</th>\n",
       "      <td>Mistiso's Place Vacation Rentals- Purcell Suite</td>\n",
       "      <td>4.5</td>\n",
       "      <td>100.0</td>\n",
       "      <td>Nelson</td>\n",
       "      <td>British Columbia</td>\n",
       "      <td>I can't say enough about this beautiful and ...</td>\n",
       "    </tr>\n",
       "    <tr>\n",
       "      <th>2</th>\n",
       "      <td>Toronto 4 Bedroom House Spacious Clean Beautif...</td>\n",
       "      <td>5.0</td>\n",
       "      <td>36.0</td>\n",
       "      <td>Toronto</td>\n",
       "      <td>Ontario</td>\n",
       "      <td>back yard! Would recommend the rental for a ...</td>\n",
       "    </tr>\n",
       "    <tr>\n",
       "      <th>3</th>\n",
       "      <td>Our Sweet Escape</td>\n",
       "      <td>5.0</td>\n",
       "      <td>34.0</td>\n",
       "      <td>Qualicum Beach</td>\n",
       "      <td>British Columbia</td>\n",
       "      <td>enjoyable. I have never stayed in a vacation...</td>\n",
       "    </tr>\n",
       "    <tr>\n",
       "      <th>4</th>\n",
       "      <td>Walk to ocean from Lyons Cottage Rentals in PEI</td>\n",
       "      <td>4.5</td>\n",
       "      <td>48.0</td>\n",
       "      <td>Stanhope</td>\n",
       "      <td>Prince Edward Island</td>\n",
       "      <td>quiet morning as we woke up - perfect vacati...</td>\n",
       "    </tr>\n",
       "  </tbody>\n",
       "</table>\n",
       "</div>"
      ],
      "text/plain": [
       "                                               Title  Rating  Review_counts  \\\n",
       "0                            Vacation/Cottage Rental     5.0           85.0   \n",
       "1    Mistiso's Place Vacation Rentals- Purcell Suite     4.5          100.0   \n",
       "2  Toronto 4 Bedroom House Spacious Clean Beautif...     5.0           36.0   \n",
       "3                                   Our Sweet Escape     5.0           34.0   \n",
       "4    Walk to ocean from Lyons Cottage Rentals in PEI     4.5           48.0   \n",
       "\n",
       "             City               Province  \\\n",
       "0   Niagara Falls                Ontario   \n",
       "1          Nelson       British Columbia   \n",
       "2         Toronto                Ontario   \n",
       "3  Qualicum Beach       British Columbia   \n",
       "4        Stanhope   Prince Edward Island   \n",
       "\n",
       "                                             Reviews  \n",
       "0    This rental felt more like a well-appointed ...  \n",
       "1    I can't say enough about this beautiful and ...  \n",
       "2    back yard! Would recommend the rental for a ...  \n",
       "3    enjoyable. I have never stayed in a vacation...  \n",
       "4    quiet morning as we woke up - perfect vacati...  "
      ]
     },
     "execution_count": 12,
     "metadata": {},
     "output_type": "execute_result"
    }
   ],
   "source": [
    "df.head()"
   ]
  },
  {
   "cell_type": "code",
   "execution_count": null,
   "metadata": {},
   "outputs": [],
   "source": []
  }
 ],
 "metadata": {
  "kernelspec": {
   "display_name": "Python 3",
   "language": "python",
   "name": "python3"
  },
  "language_info": {
   "codemirror_mode": {
    "name": "ipython",
    "version": 3
   },
   "file_extension": ".py",
   "mimetype": "text/x-python",
   "name": "python",
   "nbconvert_exporter": "python",
   "pygments_lexer": "ipython3",
   "version": "3.7.3"
  }
 },
 "nbformat": 4,
 "nbformat_minor": 2
}
