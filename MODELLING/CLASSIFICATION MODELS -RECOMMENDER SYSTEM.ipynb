{
 "cells": [
  {
   "cell_type": "code",
   "execution_count": 1,
   "metadata": {},
   "outputs": [],
   "source": [
    "import os \n",
    "os.getcwd()\n",
    "os.chdir(r'C:\\Users\\MAIN\\Desktop\\Internship SMinds\\Recommender')\n",
    "\n",
    "import pandas as pd\n",
    "import numpy as np\n",
    "import matplotlib.pyplot as plt\n",
    "import seaborn as sns"
   ]
  },
  {
   "cell_type": "code",
   "execution_count": 2,
   "metadata": {},
   "outputs": [
    {
     "name": "stdout",
     "output_type": "stream",
     "text": [
      "Unique counts: Title            846\n",
      "Bubble_Count       7\n",
      "Rating             7\n",
      "Review_Count      70\n",
      "Review_counts     69\n",
      "City             327\n",
      "Province          12\n",
      "Reviews          570\n",
      "dtype: int64\n",
      "Kind of ratings: [5.  4.5 4.  3.5 nan 1.  2.  3. ]\n"
     ]
    },
    {
     "data": {
      "text/plain": [
       "Title              0\n",
       "Rating           221\n",
       "Review_counts    281\n",
       "City               0\n",
       "Province           0\n",
       "Reviews          278\n",
       "dtype: int64"
      ]
     },
     "execution_count": 2,
     "metadata": {},
     "output_type": "execute_result"
    }
   ],
   "source": [
    "#import dataset\n",
    "df = pd.read_csv(\"TripAdvReview.csv\", na_values=\" \")\n",
    "df.head(n=5)\n",
    "df.columns\n",
    "#data wrangling\n",
    "print('Unique counts:',df.nunique())\n",
    "\n",
    "print('Kind of ratings:',df.Rating.unique())\n",
    "#remove extra columns and keep the necessary ones for analysis\n",
    "df = pd.DataFrame(df.drop(['Bubble_Count', 'Review_Count'], axis=1))\n",
    "df.head(n=5)\n",
    "df.columns\n",
    "#\n",
    "df.describe()\n",
    "df.shape\n",
    "df.size\n",
    "df.isnull().sum()"
   ]
  },
  {
   "cell_type": "code",
   "execution_count": 12,
   "metadata": {},
   "outputs": [
    {
     "name": "stdout",
     "output_type": "stream",
     "text": [
      "0.6995305164319249\n"
     ]
    },
    {
     "name": "stderr",
     "output_type": "stream",
     "text": [
      "C:\\Users\\MAIN\\Anaconda3\\lib\\site-packages\\sklearn\\linear_model\\logistic.py:433: FutureWarning: Default solver will be changed to 'lbfgs' in 0.22. Specify a solver to silence this warning.\n",
      "  FutureWarning)\n",
      "C:\\Users\\MAIN\\Anaconda3\\lib\\site-packages\\sklearn\\linear_model\\logistic.py:460: FutureWarning: Default multi_class will be changed to 'auto' in 0.22. Specify the multi_class option to silence this warning.\n",
      "  \"this warning.\", FutureWarning)\n"
     ]
    }
   ],
   "source": [
    "#logistic Regression model\n",
    "from sklearn.model_selection import train_test_split\n",
    "X_train, X_test, y_train, y_test = train_test_split(X,y,random_state=0)\n",
    "\n",
    "\n",
    "#import classifier\n",
    "from sklearn.linear_model import LogisticRegression\n",
    "clf = LogisticRegression()\n",
    "\n",
    "clf.fit(X_train,y_train)\n",
    "\n",
    "weights = clf.coef_\n",
    "\n",
    "print(clf.score(X_test,y_test))\n",
    "\n",
    "#predictions for test\n",
    "y_pred1 = clf.predict(X_test)\n",
    "\n",
    "from sklearn.metrics import confusion_matrix\n",
    "cm = confusion_matrix(y_test,clf.predict(X_test))\n"
   ]
  },
  {
   "cell_type": "code",
   "execution_count": 13,
   "metadata": {},
   "outputs": [
    {
     "name": "stdout",
     "output_type": "stream",
     "text": [
      "0.6948356807511737\n"
     ]
    },
    {
     "name": "stderr",
     "output_type": "stream",
     "text": [
      "C:\\Users\\MAIN\\Anaconda3\\lib\\site-packages\\sklearn\\ensemble\\forest.py:246: FutureWarning: The default value of n_estimators will change from 10 in version 0.20 to 100 in 0.22.\n",
      "  \"10 in version 0.20 to 100 in 0.22.\", FutureWarning)\n"
     ]
    }
   ],
   "source": [
    "#Random Forest Model\n",
    "#import classifier\n",
    "from sklearn.ensemble import RandomForestClassifier\n",
    "clf1 = RandomForestClassifier()\n",
    "\n",
    "clf1.fit(X_train,y_train)\n",
    "\n",
    "#weights = clf.coef_\n",
    "\n",
    "y_pred2 = clf1.predict(X_test)\n",
    "\n",
    "print(clf1.score(X_test,y_test))\n",
    "\n",
    "from sklearn.metrics import confusion_matrix\n",
    "cm = confusion_matrix(y_test,clf1.predict(X_test))"
   ]
  },
  {
   "cell_type": "code",
   "execution_count": 14,
   "metadata": {},
   "outputs": [
    {
     "name": "stdout",
     "output_type": "stream",
     "text": [
      "0.48826291079812206\n"
     ]
    }
   ],
   "source": [
    "#Adaboost Model\n",
    "#import classifier\n",
    "from sklearn.ensemble import AdaBoostClassifier\n",
    "clf2 = AdaBoostClassifier()\n",
    "\n",
    "clf2.fit(X_train,y_train)\n",
    "\n",
    "#weights = clf2.coef_\n",
    "\n",
    "y_pred3 = clf2.predict(X_test)\n",
    "\n",
    "print(clf2.score(X_test,y_test))\n",
    "\n",
    "from sklearn.metrics import confusion_matrix\n",
    "cm = confusion_matrix(y_test,clf2.predict(X_test))"
   ]
  },
  {
   "cell_type": "code",
   "execution_count": 15,
   "metadata": {},
   "outputs": [
    {
     "name": "stdout",
     "output_type": "stream",
     "text": [
      "0.3380281690140845\n"
     ]
    }
   ],
   "source": [
    "#KNearest Neighbor Model\n",
    "#import classifier\n",
    "from sklearn.neighbors import KNeighborsClassifier\n",
    "clf3 = KNeighborsClassifier()\n",
    "\n",
    "clf3.fit(X_train,y_train)\n",
    "\n",
    "#weights = clf.coef_\n",
    "\n",
    "y_pred4 = clf3.predict(X_test)\n",
    "\n",
    "print(clf3.score(X_test,y_test))\n",
    "\n",
    "from sklearn.metrics import confusion_matrix\n",
    "cm = confusion_matrix(y_test,clf3.predict(X_test))"
   ]
  },
  {
   "cell_type": "code",
   "execution_count": 16,
   "metadata": {},
   "outputs": [
    {
     "name": "stdout",
     "output_type": "stream",
     "text": [
      "0.6666666666666666\n"
     ]
    }
   ],
   "source": [
    "#Support Vector Machine(Classifier) Model \n",
    "#import classifier\n",
    "from sklearn.svm import SVC\n",
    "clf4 = SVC(kernel='linear')\n",
    "\n",
    "clf4.fit(X_train,y_train)\n",
    "\n",
    "#weights = clf.coef_\n",
    "\n",
    "y_pred5 = clf4.predict(X_test)\n",
    "\n",
    "print(clf4.score(X_test,y_test))\n",
    "\n",
    "from sklearn.metrics import confusion_matrix\n",
    "cm = confusion_matrix(y_test,clf4.predict(X_test))"
   ]
  }
 ],
 "metadata": {
  "kernelspec": {
   "display_name": "Python 3",
   "language": "python",
   "name": "python3"
  },
  "language_info": {
   "codemirror_mode": {
    "name": "ipython",
    "version": 3
   },
   "file_extension": ".py",
   "mimetype": "text/x-python",
   "name": "python",
   "nbconvert_exporter": "python",
   "pygments_lexer": "ipython3",
   "version": "3.7.3"
  }
 },
 "nbformat": 4,
 "nbformat_minor": 2
}
